{
 "cells": [
  {
   "cell_type": "code",
   "execution_count": null,
   "id": "c8730fda-1311-4172-8f58-b1bb99002999",
   "metadata": {},
   "outputs": [],
   "source": [
    "#用贝叶斯优化随机森林参数\n",
    "from bayes_opt import BayesianOptimization  \n",
    " \n",
    "from sklearn.model_selection import train_test_split, KFold, cross_val_score  \n",
    "from sklearn.ensemble import RandomForestRegressor  \n",
    "import numpy as np\n",
    "\n",
    "\n",
    "# 数据集分割\n",
    "x_train, x_test, y_train, y_test = train_test_split(X_train,y_train, test_size=0.2, random_state=42)\n",
    "#x_train, x_test, y_train, y_test = train_test_split(x,y, test_size=0.2, random_state=42)\n",
    "#x_train = X_train1\n",
    "#y_train = y_train1\n",
    "# 定义目标函数，使用交叉验证来计算 R^2\n",
    "def objective(n_estimators, max_depth, min_samples_split):  \n",
    "    # 创建随机森林回归器\n",
    "    reg = RandomForestRegressor(\n",
    "        n_estimators=int(n_estimators), \n",
    "        max_depth=int(max_depth), \n",
    "        min_samples_split=int(min_samples_split), \n",
    "        random_state=42\n",
    "    )\n",
    "    \n",
    "    # 使用 KFold 进行交叉验证\n",
    "    kfold = KFold(n_splits=5, shuffle=True, random_state=42)\n",
    "    results = cross_val_score(reg, x_train, y_train, cv=kfold, scoring='r2')\n",
    "    \n",
    "    # 返回平均 R^2 值\n",
    "    return np.mean(results)\n",
    "\n",
    "# 定义参数空间\n",
    "pbounds = {\n",
    "    'n_estimators': (5, 300), \n",
    "    'max_depth': (1, 20), \n",
    "    'min_samples_split': (2, 20)\n",
    "\n",
    "  \n",
    "}\n",
    "\n",
    "# 进行贝叶斯优化\n",
    "optimizer = BayesianOptimization(\n",
    "    f=objective,\n",
    "    pbounds=pbounds,\n",
    "    random_state=3\n",
    ")\n",
    "\n",
    "optimizer.maximize(\n",
    "    init_points=20,  # 随机搜索的次数\n",
    "    n_iter=50       # 总共优化的次数\n",
    ")\n",
    "\n",
    "# 输出结果\n",
    "print(f\"Best parameters found: {optimizer.max['params']}\")\n",
    "print(f\"Best score found: {optimizer.max['target']}\")"
   ]
  }
 ],
 "metadata": {
  "kernelspec": {
   "display_name": "Python 3 (ipykernel)",
   "language": "python",
   "name": "python3"
  },
  "language_info": {
   "codemirror_mode": {
    "name": "ipython",
    "version": 3
   },
   "file_extension": ".py",
   "mimetype": "text/x-python",
   "name": "python",
   "nbconvert_exporter": "python",
   "pygments_lexer": "ipython3",
   "version": "3.12.0"
  }
 },
 "nbformat": 4,
 "nbformat_minor": 5
}
