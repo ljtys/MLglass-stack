{
 "cells": [
  {
   "cell_type": "code",
   "execution_count": null,
   "id": "5b0fb77f-d364-4711-a6af-998e410a7d49",
   "metadata": {},
   "outputs": [],
   "source": [
    "#df来源于提供的sciglass开源数据库\n",
    "df"
   ]
  },
  {
   "cell_type": "code",
   "execution_count": null,
   "id": "4cbb1232-c627-40bd-8acb-92e1222bb415",
   "metadata": {},
   "outputs": [],
   "source": [
    "df_SIO2 = df_selected = df.loc[:, (df.columns.get_level_values(0) == 'compounds') & (df.columns.get_level_values(1) == 'SiO2'),]\n",
    "df_K2O = df_selected = df.loc[:, (df.columns.get_level_values(0) == 'compounds') & (df.columns.get_level_values(1) == 'K2O'),]\n",
    "df_B2O3 = df_selected = df.loc[:, (df.columns.get_level_values(0) == 'compounds') & (df.columns.get_level_values(1) == 'B2O3'),]\n",
    "df_BaO = df_selected = df.loc[:, (df.columns.get_level_values(0) == 'compounds') & (df.columns.get_level_values(1) == 'BaO'),]\n",
    "df_Na2O = df_selected = df.loc[:, (df.columns.get_level_values(0) == 'compounds') & (df.columns.get_level_values(1) == 'Na2O'),]\n",
    "df_As2O3 = df_selected = df.loc[:, (df.columns.get_level_values(0) == 'compounds') & (df.columns.get_level_values(1) == 'As2O3'),]\n",
    "df_RefractiveIndex =  df_selected = df.loc[:, (df.columns.get_level_values(0) == 'property') & (df.columns.get_level_values(1) == 'RefractiveIndex'),]"
   ]
  },
  {
   "cell_type": "code",
   "execution_count": null,
   "id": "ad036c9c-dd77-4026-bb5a-0c6cbb9ecc9c",
   "metadata": {},
   "outputs": [],
   "source": [
    "import pandas as pd "
   ]
  },
  {
   "cell_type": "code",
   "execution_count": null,
   "id": "056f8905-9595-4a24-b332-f09fcaa0865b",
   "metadata": {},
   "outputs": [],
   "source": [
    "df_clean = df_combined = pd.concat([df_SIO2, df_K2O,df_B2O3,df_BaO,df_Na2O,df_As2O3,df_RefractiveIndex], axis=1)"
   ]
  },
  {
   "cell_type": "code",
   "execution_count": null,
   "id": "713babde-667e-4552-a4ad-9c4bd8a52a2b",
   "metadata": {},
   "outputs": [],
   "source": [
    "df_cleaning = df_clean.dropna()"
   ]
  },
  {
   "cell_type": "code",
   "execution_count": null,
   "id": "add15411-be0d-48be-939d-e70c47550800",
   "metadata": {},
   "outputs": [],
   "source": [
    "df_cleaning"
   ]
  },
  {
   "cell_type": "code",
   "execution_count": null,
   "id": "fce99049-6d9c-4648-8b5b-6c5fa36e8680",
   "metadata": {},
   "outputs": [],
   "source": [
    "Refractive_index_col  = [(lvl1, lvl2) for lvl1, lvl2 in df_cleaning.columns if lvl1 == 'property' and lvl2 in ['RefractiveIndex']] \n",
    "# 确保折射率列存在且数据类型正确  \n",
    "if Refractive_index_col:  \n",
    "    refractive_index_label = tuple(Refractive_index_col[0])  \n",
    "      \n",
    "    # 检查数据类型（可选，但有助于调试）  \n",
    "    print(df_cleaning.loc[:, refractive_index_label].dtype)  \n",
    "      \n",
    "    # 处理可能的空值（例如，用某个值填充或删除包含空值的行）  \n",
    "    # 这里选择填充 NaN 为一个不可能在折射率范围内的值，比如 -1（注意：这取决于你的数据）  \n",
    "    # 或者使用 dropna() 方法删除包含 NaN 的行  ，df_cleaning1.fillna有1是运行了sio2无1是没有\n",
    "    df_cleaning1_filled_Refractive = df_cleaning.fillna({refractive_index_label: -1})  \n",
    "      \n",
    "    # 或者使用 dropna()  \n",
    "    # df_cleaning_no_na = df_cleaning.dropna(subset=[refractive_index_label])  \n",
    "      \n",
    "    # 应用比较操作符，并确保返回的是布尔类型  \n",
    "    condition1 = (df_cleaning1_filled_Refractive.loc[:, refractive_index_label] >= 1.1)  \n",
    "    condition2 = (df_cleaning1_filled_Refractive.loc[:, refractive_index_label] <= 2.3)  \n",
    "      \n",
    "    # 组合条件（使用括号确保优先级）  \n",
    "    bool_index = (condition1 & condition2)  \n",
    "      \n",
    "    # 筛选 DataFrame  \n",
    "    filtered_df_reset1 = df_cleaning1_filled_Refractive.loc[bool_index]  \n",
    "      \n",
    "    # 打印结果  \n",
    "    print(filtered_df_reset1)  \n",
    "else:  \n",
    "    print(\"没有找到折射率列\")"
   ]
  },
  {
   "cell_type": "code",
   "execution_count": null,
   "id": "6c3d493f-924d-454e-9b65-aacd46044042",
   "metadata": {},
   "outputs": [],
   "source": [
    "df_cleaning2 = filtered_df_reset1"
   ]
  },
  {
   "cell_type": "code",
   "execution_count": null,
   "id": "fd0c9bc3-a295-4907-b2f7-ed37a712aa67",
   "metadata": {},
   "outputs": [],
   "source": [
    "\n",
    "x1 = df_cleaning2.loc[:, (df_cleaning2.columns.get_level_values(0) == 'compounds') & (df_cleaning2.columns.get_level_values(1) == 'SiO2'),] \n",
    "x2 = df_cleaning2.loc[:, (df_cleaning2.columns.get_level_values(0) == 'compounds') & (df_cleaning2.columns.get_level_values(1) == 'K2O'),] \n",
    "x3 = df_cleaning2.loc[:, (df_cleaning2.columns.get_level_values(0) == 'compounds') & (df_cleaning2.columns.get_level_values(1) == 'B2O3'),]  \n",
    "x4 = df_cleaning2.loc[:, (df_cleaning2.columns.get_level_values(0) == 'compounds') & (df_cleaning2.columns.get_level_values(1) == 'BaO'),]  \n",
    "x5 = df_cleaning2.loc[:, (df_cleaning2.columns.get_level_values(0) == 'compounds') & (df_cleaning2.columns.get_level_values(1) == 'Na2O'),]  \n",
    "x6 = df_cleaning2.loc[:, (df_cleaning2.columns.get_level_values(0) == 'compounds') & (df_cleaning2.columns.get_level_values(1) == 'As2O3'),] \n",
    "x =  pd.concat([x1, x2, x3, x4, x5, x6], axis=1)\n",
    "y = df_cleaning2.loc[:, (df_cleaning2.columns.get_level_values(0) == 'property') & (df_cleaning2.columns.get_level_values(1) == 'RefractiveIndex'),]  "
   ]
  },
  {
   "cell_type": "code",
   "execution_count": null,
   "id": "599686bd-d03c-4557-aca9-e1529ec37fe0",
   "metadata": {},
   "outputs": [],
   "source": [
    "x =  pd.concat([x1, x2, x3, x4, x5, x6], axis=1)"
   ]
  },
  {
   "cell_type": "code",
   "execution_count": null,
   "id": "d0ab82b3-0502-4888-85d9-49ac953b8b1b",
   "metadata": {},
   "outputs": [],
   "source": [
    "import pandas as pd\n",
    "\n",
    "# 计算每行的和\n",
    "row_sums = x.sum(axis=1)\n",
    "\n",
    "# 保留和为 1 的行\n",
    "#x_filtered = x[row_sums == 1]"
   ]
  },
  {
   "cell_type": "code",
   "execution_count": null,
   "id": "5c189cf1-eed5-427b-a8c7-ceb42835f4f8",
   "metadata": {},
   "outputs": [],
   "source": [
    "# 保留和为0.99到1.01（包含边界）之间的行  \n",
    "x_filtered1 =  x[(row_sums >= 0.99) & (row_sums <= 1.01)]"
   ]
  },
  {
   "cell_type": "code",
   "execution_count": null,
   "id": "36773ad1-abe1-4bde-9430-c52e6fa044ef",
   "metadata": {},
   "outputs": [],
   "source": [
    "y_filtered = y.loc[x_filtered1.index]\n",
    "y_filtered"
   ]
  },
  {
   "cell_type": "code",
   "execution_count": null,
   "id": "ed4a8cac-1289-4f73-809d-fb3c78438525",
   "metadata": {},
   "outputs": [],
   "source": [
    "x_normalized = x_filtered1.copy()  \n",
    "  \n",
    "# 遍历每一行，进行归一化处理  \n",
    "for index, row in x_filtered1.iterrows():  \n",
    "    if row.sum() != 1.0:  \n",
    "      x_filtered1.loc[index] = row / row.sum()\n",
    "x_normalized"
   ]
  }
 ],
 "metadata": {
  "kernelspec": {
   "display_name": "Python 3 (ipykernel)",
   "language": "python",
   "name": "python3"
  },
  "language_info": {
   "codemirror_mode": {
    "name": "ipython",
    "version": 3
   },
   "file_extension": ".py",
   "mimetype": "text/x-python",
   "name": "python",
   "nbconvert_exporter": "python",
   "pygments_lexer": "ipython3",
   "version": "3.12.0"
  }
 },
 "nbformat": 4,
 "nbformat_minor": 5
}
