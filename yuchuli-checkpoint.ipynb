{
 "cells": [
  {
   "cell_type": "code",
   "execution_count": null,
   "id": "5b0fb77f-d364-4711-a6af-998e410a7d49",
   "metadata": {},
   "outputs": [],
   "source": [
    "df"
   ]
  },
  {
   "cell_type": "code",
   "execution_count": 1,
   "id": "fbf1b412-42f0-4504-bf11-54aaf347fc8c",
   "metadata": {},
   "outputs": [
    {
     "ename": "NameError",
     "evalue": "name 'df' is not defined",
     "output_type": "error",
     "traceback": [
      "\u001b[1;31m---------------------------------------------------------------------------\u001b[0m",
      "\u001b[1;31mNameError\u001b[0m                                 Traceback (most recent call last)",
      "Cell \u001b[1;32mIn[1], line 1\u001b[0m\n\u001b[1;32m----> 1\u001b[0m df_SIO2 \u001b[38;5;241m=\u001b[39m df_selected \u001b[38;5;241m=\u001b[39m \u001b[43mdf\u001b[49m\u001b[38;5;241m.\u001b[39mloc[:, (df\u001b[38;5;241m.\u001b[39mcolumns\u001b[38;5;241m.\u001b[39mget_level_values(\u001b[38;5;241m0\u001b[39m) \u001b[38;5;241m==\u001b[39m \u001b[38;5;124m'\u001b[39m\u001b[38;5;124mcompounds\u001b[39m\u001b[38;5;124m'\u001b[39m) \u001b[38;5;241m&\u001b[39m (df\u001b[38;5;241m.\u001b[39mcolumns\u001b[38;5;241m.\u001b[39mget_level_values(\u001b[38;5;241m1\u001b[39m) \u001b[38;5;241m==\u001b[39m \u001b[38;5;124m'\u001b[39m\u001b[38;5;124mSiO2\u001b[39m\u001b[38;5;124m'\u001b[39m),]\n\u001b[0;32m      2\u001b[0m df_K2O \u001b[38;5;241m=\u001b[39m df_selected \u001b[38;5;241m=\u001b[39m df\u001b[38;5;241m.\u001b[39mloc[:, (df\u001b[38;5;241m.\u001b[39mcolumns\u001b[38;5;241m.\u001b[39mget_level_values(\u001b[38;5;241m0\u001b[39m) \u001b[38;5;241m==\u001b[39m \u001b[38;5;124m'\u001b[39m\u001b[38;5;124mcompounds\u001b[39m\u001b[38;5;124m'\u001b[39m) \u001b[38;5;241m&\u001b[39m (df\u001b[38;5;241m.\u001b[39mcolumns\u001b[38;5;241m.\u001b[39mget_level_values(\u001b[38;5;241m1\u001b[39m) \u001b[38;5;241m==\u001b[39m \u001b[38;5;124m'\u001b[39m\u001b[38;5;124mK2O\u001b[39m\u001b[38;5;124m'\u001b[39m),]\n\u001b[0;32m      3\u001b[0m df_B2O3 \u001b[38;5;241m=\u001b[39m df_selected \u001b[38;5;241m=\u001b[39m df\u001b[38;5;241m.\u001b[39mloc[:, (df\u001b[38;5;241m.\u001b[39mcolumns\u001b[38;5;241m.\u001b[39mget_level_values(\u001b[38;5;241m0\u001b[39m) \u001b[38;5;241m==\u001b[39m \u001b[38;5;124m'\u001b[39m\u001b[38;5;124mcompounds\u001b[39m\u001b[38;5;124m'\u001b[39m) \u001b[38;5;241m&\u001b[39m (df\u001b[38;5;241m.\u001b[39mcolumns\u001b[38;5;241m.\u001b[39mget_level_values(\u001b[38;5;241m1\u001b[39m) \u001b[38;5;241m==\u001b[39m \u001b[38;5;124m'\u001b[39m\u001b[38;5;124mB2O3\u001b[39m\u001b[38;5;124m'\u001b[39m),]\n",
      "\u001b[1;31mNameError\u001b[0m: name 'df' is not defined"
     ]
    }
   ],
   "source": [
    "df_SIO2 = df_selected = df.loc[:, (df.columns.get_level_values(0) == 'compounds') & (df.columns.get_level_values(1) == 'SiO2'),]\n",
    "df_K2O = df_selected = df.loc[:, (df.columns.get_level_values(0) == 'compounds') & (df.columns.get_level_values(1) == 'K2O'),]\n",
    "df_B2O3 = df_selected = df.loc[:, (df.columns.get_level_values(0) == 'compounds') & (df.columns.get_level_values(1) == 'B2O3'),]\n",
    "df_BaO = df_selected = df.loc[:, (df.columns.get_level_values(0) == 'compounds') & (df.columns.get_level_values(1) == 'BaO'),]\n",
    "df_Na2O = df_selected = df.loc[:, (df.columns.get_level_values(0) == 'compounds') & (df.columns.get_level_values(1) == 'Na2O'),]\n",
    "df_As2O3 = df_selected = df.loc[:, (df.columns.get_level_values(0) == 'compounds') & (df.columns.get_level_values(1) == 'As2O3'),]\n",
    "df_RefractiveIndex =  df_selected = df.loc[:, (df.columns.get_level_values(0) == 'property') & (df.columns.get_level_values(1) == 'RefractiveIndex'),]"
   ]
  },
  {
   "cell_type": "code",
   "execution_count": null,
   "id": "ad036c9c-dd77-4026-bb5a-0c6cbb9ecc9c",
   "metadata": {},
   "outputs": [],
   "source": [
    "import pandas as pd "
   ]
  },
  {
   "cell_type": "code",
   "execution_count": null,
   "id": "056f8905-9595-4a24-b332-f09fcaa0865b",
   "metadata": {},
   "outputs": [],
   "source": [
    "df_clean = df_combined = pd.concat([df_SIO2, df_K2O,df_B2O3,df_BaO,df_Na2O,df_As2O3,df_RefractiveIndex], axis=1)"
   ]
  },
  {
   "cell_type": "code",
   "execution_count": null,
   "id": "713babde-667e-4552-a4ad-9c4bd8a52a2b",
   "metadata": {},
   "outputs": [],
   "source": [
    "df_cleaning = df_clean.dropna()"
   ]
  },
  {
   "cell_type": "code",
   "execution_count": null,
   "id": "add15411-be0d-48be-939d-e70c47550800",
   "metadata": {},
   "outputs": [],
   "source": [
    "df_cleaning"
   ]
  },
  {
   "cell_type": "code",
   "execution_count": null,
   "id": "fd0c9bc3-a295-4907-b2f7-ed37a712aa67",
   "metadata": {},
   "outputs": [],
   "source": [
    "df_cleaning2 = df_cleaning\n",
    "x1 = df_cleaning2.loc[:, (df_cleaning2.columns.get_level_values(0) == 'compounds') & (df_cleaning2.columns.get_level_values(1) == 'SiO2'),] \n",
    "x2 = df_cleaning2.loc[:, (df_cleaning2.columns.get_level_values(0) == 'compounds') & (df_cleaning2.columns.get_level_values(1) == 'K2O'),] \n",
    "x3 = df_cleaning2.loc[:, (df_cleaning2.columns.get_level_values(0) == 'compounds') & (df_cleaning2.columns.get_level_values(1) == 'B2O3'),]  \n",
    "x4 = df_cleaning2.loc[:, (df_cleaning2.columns.get_level_values(0) == 'compounds') & (df_cleaning2.columns.get_level_values(1) == 'BaO'),]  \n",
    "x5 = df_cleaning2.loc[:, (df_cleaning2.columns.get_level_values(0) == 'compounds') & (df_cleaning2.columns.get_level_values(1) == 'Na2O'),]  \n",
    "x6 = df_cleaning2.loc[:, (df_cleaning2.columns.get_level_values(0) == 'compounds') & (df_cleaning2.columns.get_level_values(1) == 'As2O3'),] \n",
    "x =  pd.concat([x1, x2, x3, x4, x5, x6], axis=1)\n",
    "y = df_cleaning2.loc[:, (df_cleaning2.columns.get_level_values(0) == 'property') & (df_cleaning2.columns.get_level_values(1) == 'RefractiveIndex'),]  "
   ]
  },
  {
   "cell_type": "code",
   "execution_count": null,
   "id": "599686bd-d03c-4557-aca9-e1529ec37fe0",
   "metadata": {},
   "outputs": [],
   "source": [
    "x =  pd.concat([x1, x2, x3, x4, x5, x6], axis=1)"
   ]
  },
  {
   "cell_type": "code",
   "execution_count": null,
   "id": "d0ab82b3-0502-4888-85d9-49ac953b8b1b",
   "metadata": {},
   "outputs": [],
   "source": [
    "import pandas as pd\n",
    "\n",
    "# 计算每行的和\n",
    "row_sums = x.sum(axis=1)\n",
    "\n",
    "# 保留和为 1 的行\n",
    "#x_filtered = x[row_sums == 1]"
   ]
  },
  {
   "cell_type": "code",
   "execution_count": null,
   "id": "5c189cf1-eed5-427b-a8c7-ceb42835f4f8",
   "metadata": {},
   "outputs": [],
   "source": [
    "# 保留和为0.99到1.01（包含边界）之间的行  \n",
    "x_filtered1 =  x[(row_sums >= 0.99) & (row_sums <= 1.01)]"
   ]
  },
  {
   "cell_type": "code",
   "execution_count": null,
   "id": "36773ad1-abe1-4bde-9430-c52e6fa044ef",
   "metadata": {},
   "outputs": [],
   "source": [
    "\n",
    "y_filtered = y.loc[x_filtered1.index]\n",
    "y_filtered"
   ]
  },
  {
   "cell_type": "code",
   "execution_count": null,
   "id": "ed4a8cac-1289-4f73-809d-fb3c78438525",
   "metadata": {},
   "outputs": [],
   "source": [
    "x_normalized = x_filtered1.copy()  \n",
    "  \n",
    "# 遍历每一行，进行归一化处理  \n",
    "for index, row in x_filtered1.iterrows():  \n",
    "    if row.sum() != 1.0:  \n",
    "      x_filtered1.loc[index] = row / row.sum()\n",
    "x_normalized"
   ]
  }
 ],
 "metadata": {
  "kernelspec": {
   "display_name": "Python 3 (ipykernel)",
   "language": "python",
   "name": "python3"
  },
  "language_info": {
   "codemirror_mode": {
    "name": "ipython",
    "version": 3
   },
   "file_extension": ".py",
   "mimetype": "text/x-python",
   "name": "python",
   "nbconvert_exporter": "python",
   "pygments_lexer": "ipython3",
   "version": "3.12.0"
  }
 },
 "nbformat": 4,
 "nbformat_minor": 5
}
